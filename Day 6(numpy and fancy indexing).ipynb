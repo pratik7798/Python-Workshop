{
 "cells": [
  {
   "cell_type": "code",
   "execution_count": 5,
   "metadata": {},
   "outputs": [
    {
     "name": "stdout",
     "output_type": "stream",
     "text": [
      "Help on built-in function accumulate:\n",
      "\n",
      "accumulate(...) method of numpy.ufunc instance\n",
      "    accumulate(array, axis=0, dtype=None, out=None)\n",
      "    \n",
      "    Accumulate the result of applying the operator to all elements.\n",
      "    \n",
      "    For a one-dimensional array, accumulate produces results equivalent to::\n",
      "    \n",
      "      r = np.empty(len(A))\n",
      "      t = op.identity        # op = the ufunc being applied to A's  elements\n",
      "      for i in range(len(A)):\n",
      "          t = op(t, A[i])\n",
      "          r[i] = t\n",
      "      return r\n",
      "    \n",
      "    For example, add.accumulate() is equivalent to np.cumsum().\n",
      "    \n",
      "    For a multi-dimensional array, accumulate is applied along only one\n",
      "    axis (axis zero by default; see Examples below) so repeated use is\n",
      "    necessary if one wants to accumulate over multiple axes.\n",
      "    \n",
      "    Parameters\n",
      "    ----------\n",
      "    array : array_like\n",
      "        The array to act on.\n",
      "    axis : int, optional\n",
      "        The axis along which to apply the accumulation; default is zero.\n",
      "    dtype : data-type code, optional\n",
      "        The data-type used to represent the intermediate results. Defaults\n",
      "        to the data-type of the output array if such is provided, or the\n",
      "        the data-type of the input array if no output array is provided.\n",
      "    out : ndarray, None, or tuple of ndarray and None, optional\n",
      "        A location into which the result is stored. If not provided or `None`,\n",
      "        a freshly-allocated array is returned. For consistency with\n",
      "        :ref:`ufunc.__call__`, if given as a keyword, this may be wrapped in a\n",
      "        1-element tuple.\n",
      "    \n",
      "        .. versionchanged:: 1.13.0\n",
      "           Tuples are allowed for keyword argument.\n",
      "    \n",
      "    Returns\n",
      "    -------\n",
      "    r : ndarray\n",
      "        The accumulated values. If `out` was supplied, `r` is a reference to\n",
      "        `out`.\n",
      "    \n",
      "    Examples\n",
      "    --------\n",
      "    1-D array examples:\n",
      "    \n",
      "    >>> np.add.accumulate([2, 3, 5])\n",
      "    array([ 2,  5, 10])\n",
      "    >>> np.multiply.accumulate([2, 3, 5])\n",
      "    array([ 2,  6, 30])\n",
      "    \n",
      "    2-D array examples:\n",
      "    \n",
      "    >>> I = np.eye(2)\n",
      "    >>> I\n",
      "    array([[ 1.,  0.],\n",
      "           [ 0.,  1.]])\n",
      "    \n",
      "    Accumulate along axis 0 (rows), down columns:\n",
      "    \n",
      "    >>> np.add.accumulate(I, 0)\n",
      "    array([[ 1.,  0.],\n",
      "           [ 1.,  1.]])\n",
      "    >>> np.add.accumulate(I) # no axis specified = axis zero\n",
      "    array([[ 1.,  0.],\n",
      "           [ 1.,  1.]])\n",
      "    \n",
      "    Accumulate along axis 1 (columns), through rows:\n",
      "    \n",
      "    >>> np.add.accumulate(I, 1)\n",
      "    array([[ 1.,  1.],\n",
      "           [ 0.,  1.]])\n",
      "\n"
     ]
    }
   ],
   "source": [
    "import numpy as np\n",
    "help(np.multiply.accumulate)"
   ]
  },
  {
   "cell_type": "markdown",
   "metadata": {},
   "source": [
    "# Exploring fancy indexing"
   ]
  },
  {
   "cell_type": "code",
   "execution_count": 9,
   "metadata": {},
   "outputs": [
    {
     "name": "stdout",
     "output_type": "stream",
     "text": [
      "[37 12 72  9 75  5 79 64 16  1]\n"
     ]
    }
   ],
   "source": [
    "#Randomstate(1):Fixed key for random numbers. \n",
    "import numpy as np\n",
    "rand=np.random.RandomState(1)#here 1 is key for following random numbers \n",
    "\n",
    "x=rand.randint(100,size=10)\n",
    "print(x)"
   ]
  },
  {
   "cell_type": "code",
   "execution_count": null,
   "metadata": {},
   "outputs": [],
   "source": [
    "X=np.arange(12).reshape((3,4))\n",
    "row=np.([0,1,2])#accesing elements from 2d array by row and column numbers\n",
    "column=np.([2,1,3])\n",
    "X[row,column]\n",
    "X[row[:,np.newaxis],col]#newaxis=takes all elements of that row or column\n"
   ]
  },
  {
   "cell_type": "code",
   "execution_count": 19,
   "metadata": {},
   "outputs": [
    {
     "name": "stdout",
     "output_type": "stream",
     "text": [
      "Enter row3\n",
      "Enter column3\n",
      "[[5 8 9]\n",
      " [5 0 0]\n",
      " [1 7 6]]\n"
     ]
    }
   ],
   "source": [
    "import numpy as np\n",
    "i=int(input(\"Enter row\"))\n",
    "j=int(input(\"Enter column\"))\n",
    "rand=np.random.RandomState(1)\n",
    "x=rand.randint(0,10,(i,j))\n",
    "print(x)"
   ]
  },
  {
   "cell_type": "code",
   "execution_count": 44,
   "metadata": {},
   "outputs": [
    {
     "data": {
      "text/plain": [
       "array([5, 0, 6])"
      ]
     },
     "execution_count": 44,
     "metadata": {},
     "output_type": "execute_result"
    }
   ],
   "source": [
    "row=np.array([0,1,2])\n",
    "column=np.array([0,1,2])\n",
    "x[row,column]"
   ]
  },
  {
   "cell_type": "code",
   "execution_count": 26,
   "metadata": {},
   "outputs": [
    {
     "data": {
      "text/plain": [
       "array([[5, 9, 8],\n",
       "       [5, 0, 0],\n",
       "       [1, 6, 7]])"
      ]
     },
     "execution_count": 26,
     "metadata": {},
     "output_type": "execute_result"
    }
   ],
   "source": [
    "x[row[:,np.newaxis],column]"
   ]
  },
  {
   "cell_type": "code",
   "execution_count": 28,
   "metadata": {},
   "outputs": [
    {
     "data": {
      "text/plain": [
       "array([[[5, 8, 9],\n",
       "        [1, 7, 6]],\n",
       "\n",
       "       [[5, 0, 0],\n",
       "        [5, 8, 9]]])"
      ]
     },
     "execution_count": 28,
     "metadata": {},
     "output_type": "execute_result"
    }
   ],
   "source": [
    "ind=np.array([[0,2],[1,0]])\n",
    "x[ind]"
   ]
  },
  {
   "cell_type": "code",
   "execution_count": 29,
   "metadata": {},
   "outputs": [
    {
     "data": {
      "text/plain": [
       "[array([5, 0, 0]), array([5, 8, 9]), array([1, 7, 6])]"
      ]
     },
     "execution_count": 29,
     "metadata": {},
     "output_type": "execute_result"
    }
   ],
   "source": [
    "[x[1],x[0],x[2]]"
   ]
  },
  {
   "cell_type": "code",
   "execution_count": 40,
   "metadata": {},
   "outputs": [
    {
     "data": {
      "text/plain": [
       "array([[5, 8],\n",
       "       [5, 0],\n",
       "       [1, 7]])"
      ]
     },
     "execution_count": 40,
     "metadata": {},
     "output_type": "execute_result"
    }
   ],
   "source": [
    "x[:,[0,1]]"
   ]
  },
  {
   "cell_type": "code",
   "execution_count": 46,
   "metadata": {},
   "outputs": [
    {
     "data": {
      "text/plain": [
       "array([[8],\n",
       "       [0],\n",
       "       [7]])"
      ]
     },
     "execution_count": 46,
     "metadata": {},
     "output_type": "execute_result"
    }
   ],
   "source": [
    "mask=np.array([0,1,0],dtype=bool)\n",
    "x[row[:,np.newaxis],mask]"
   ]
  },
  {
   "cell_type": "code",
   "execution_count": 45,
   "metadata": {},
   "outputs": [
    {
     "data": {
      "text/plain": [
       "array([[8],\n",
       "       [0],\n",
       "       [7]])"
      ]
     },
     "execution_count": 45,
     "metadata": {},
     "output_type": "execute_result"
    }
   ],
   "source": [
    "mask=np.array([0,1,0],dtype=bool)\n",
    "x[column[:,np.newaxis],mask]"
   ]
  },
  {
   "cell_type": "markdown",
   "metadata": {},
   "source": [
    "# Selecting random points"
   ]
  },
  {
   "cell_type": "markdown",
   "metadata": {},
   "source": [
    "x=rand.multivariate_noraml(mean,cov,100) generates random multivairables"
   ]
  },
  {
   "cell_type": "code",
   "execution_count": 31,
   "metadata": {},
   "outputs": [
    {
     "data": {
      "text/plain": [
       "(100, 2)"
      ]
     },
     "execution_count": 31,
     "metadata": {},
     "output_type": "execute_result"
    }
   ],
   "source": [
    "mean=[0,0]\n",
    "cov=[[1,2],[2,5]]\n",
    "x=rand.multivariate_normal(mean,cov,100)\n",
    "x.shape"
   ]
  },
  {
   "cell_type": "code",
   "execution_count": 18,
   "metadata": {},
   "outputs": [
    {
     "ename": "IndexError",
     "evalue": "too many indices for array",
     "output_type": "error",
     "traceback": [
      "\u001b[1;31m---------------------------------------------------------------------------\u001b[0m",
      "\u001b[1;31mIndexError\u001b[0m                                Traceback (most recent call last)",
      "\u001b[1;32m<ipython-input-18-ab339871ecb2>\u001b[0m in \u001b[0;36m<module>\u001b[1;34m\u001b[0m\n\u001b[0;32m      1\u001b[0m \u001b[1;32mimport\u001b[0m \u001b[0mmatplotlib\u001b[0m\u001b[1;33m.\u001b[0m\u001b[0mpyplot\u001b[0m \u001b[1;32mas\u001b[0m \u001b[0mplt\u001b[0m\u001b[1;33m\u001b[0m\u001b[1;33m\u001b[0m\u001b[0m\n\u001b[0;32m      2\u001b[0m \u001b[1;32mimport\u001b[0m \u001b[0mseaborn\u001b[0m\u001b[1;33m;\u001b[0m \u001b[0mseaborn\u001b[0m\u001b[1;33m.\u001b[0m\u001b[0mset\u001b[0m\u001b[1;33m(\u001b[0m\u001b[1;33m)\u001b[0m\u001b[1;31m# for plot styling\u001b[0m\u001b[1;33m\u001b[0m\u001b[1;33m\u001b[0m\u001b[0m\n\u001b[1;32m----> 3\u001b[1;33m \u001b[0mplt\u001b[0m\u001b[1;33m.\u001b[0m\u001b[0mscatter\u001b[0m\u001b[1;33m(\u001b[0m\u001b[0mx\u001b[0m\u001b[1;33m[\u001b[0m\u001b[1;33m:\u001b[0m\u001b[1;33m,\u001b[0m\u001b[1;36m0\u001b[0m\u001b[1;33m]\u001b[0m\u001b[1;33m,\u001b[0m\u001b[0mx\u001b[0m\u001b[1;33m[\u001b[0m\u001b[1;33m:\u001b[0m\u001b[1;33m,\u001b[0m\u001b[1;36m1\u001b[0m\u001b[1;33m]\u001b[0m\u001b[1;33m)\u001b[0m\u001b[1;33m;\u001b[0m\u001b[1;33m\u001b[0m\u001b[1;33m\u001b[0m\u001b[0m\n\u001b[0m",
      "\u001b[1;31mIndexError\u001b[0m: too many indices for array"
     ]
    }
   ],
   "source": [
    "import matplotlib.pyplot as plt\n",
    "import seaborn; seaborn.set()# for plot styling\n",
    "plt.scatter(x[:,0],x[:,1]);"
   ]
  },
  {
   "cell_type": "markdown",
   "metadata": {},
   "source": [
    "most frequent no in randomly generated numbers"
   ]
  },
  {
   "cell_type": "code",
   "execution_count": 25,
   "metadata": {},
   "outputs": [
    {
     "name": "stdout",
     "output_type": "stream",
     "text": [
      "[9 4 3 4 1 4 2 8 0 2 4 9 9 7 2 0 2 3 2 8 4 7 5 8 9 3 2 7 5 6 0 6 4 4 1 1 4\n",
      " 1 6 3]\n",
      "[3 4 6 4 8 2 3 3 3 4]\n",
      "4\n"
     ]
    }
   ],
   "source": [
    "import numpy as np\n",
    "x=np.random.randint(0,10,40)\n",
    "print (x)\n",
    "print(np.bincount(x))\n",
    "print(np.bincount(x).argmax())"
   ]
  },
  {
   "cell_type": "code",
   "execution_count": 26,
   "metadata": {},
   "outputs": [
    {
     "data": {
      "text/plain": [
       "[<matplotlib.lines.Line2D at 0x1f219f0fe88>]"
      ]
     },
     "execution_count": 26,
     "metadata": {},
     "output_type": "execute_result"
    },
    {
     "data": {
      "image/png": "[encoded data removed]",
      "text/plain": [
       "<Figure size 432x288 with 1 Axes>"
      ]
     },
     "metadata": {},
     "output_type": "display_data"
    }
   ],
   "source": [
    "import matplotlib.pyplot as plt\n",
    "plt.plot(np.bincount(x))"
   ]
  },
  {
   "cell_type": "code",
   "execution_count": 33,
   "metadata": {},
   "outputs": [
    {
     "data": {
      "text/plain": [
       "array([54, 82, 49, 28, 51, 92, 42,  1, 68, 13, 10, 35, 19,  2, 88, 74, 31,\n",
       "       73, 58, 21])"
      ]
     },
     "execution_count": 33,
     "metadata": {},
     "output_type": "execute_result"
    }
   ],
   "source": [
    "indices=np.random.choice(x.shape[0],20,replace=False)\n",
    "indices"
   ]
  },
  {
   "cell_type": "code",
   "execution_count": 34,
   "metadata": {},
   "outputs": [
    {
     "data": {
      "text/plain": [
       "(20, 2)"
      ]
     },
     "execution_count": 34,
     "metadata": {},
     "output_type": "execute_result"
    }
   ],
   "source": [
    "selection=x[indices]\n",
    "selection.shape"
   ]
  },
  {
   "cell_type": "code",
   "execution_count": 40,
   "metadata": {},
   "outputs": [
    {
     "data": {
      "text/plain": [
       "<matplotlib.collections.PathCollection at 0x1f219dceb48>"
      ]
     },
     "execution_count": 40,
     "metadata": {},
     "output_type": "execute_result"
    },
    {
     "data": {
      "image/png": "[encoded data removed]",
      "text/plain": [
       "<Figure size 432x288 with 1 Axes>"
      ]
     },
     "metadata": {},
     "output_type": "display_data"
    }
   ],
   "source": [
    "plt.scatter(x[:,0],x[:,1],alpha=0.5)\n",
    "plt.scatter(selection[:, 0],selection[:,1],facecolor='black',s=20)"
   ]
  },
  {
   "cell_type": "code",
   "execution_count": 32,
   "metadata": {},
   "outputs": [
    {
     "data": {
      "text/plain": [
       "(100, 2)"
      ]
     },
     "execution_count": 32,
     "metadata": {},
     "output_type": "execute_result"
    }
   ],
   "source": [
    "x.shape"
   ]
  },
  {
   "cell_type": "code",
   "execution_count": 42,
   "metadata": {},
   "outputs": [
    {
     "name": "stdout",
     "output_type": "stream",
     "text": [
      "[ 0  1 99 99  4 99  6  7 99  9]\n"
     ]
    }
   ],
   "source": [
    "p=np.arange(10)\n",
    "i=np.array([2,5,8,3])\n",
    "p[i]=99\n",
    "print(p)"
   ]
  },
  {
   "cell_type": "code",
   "execution_count": 43,
   "metadata": {},
   "outputs": [
    {
     "data": {
      "text/plain": [
       "array([ 0,  1, 89, 89,  4, 89,  6,  7, 89,  9])"
      ]
     },
     "execution_count": 43,
     "metadata": {},
     "output_type": "execute_result"
    }
   ],
   "source": [
    "p[i]-=10\n",
    "p"
   ]
  },
  {
   "cell_type": "code",
   "execution_count": 44,
   "metadata": {},
   "outputs": [
    {
     "name": "stdout",
     "output_type": "stream",
     "text": [
      "[6. 0. 0. 0. 0. 0. 0. 0. 0. 0.]\n"
     ]
    }
   ],
   "source": [
    "p=np.zeros(10)\n",
    "p[[0,0]]=[4,6]\n",
    "print(p)"
   ]
  },
  {
   "cell_type": "code",
   "execution_count": null,
   "metadata": {},
   "outputs": [],
   "source": []
  }
 ],
 "metadata": {
  "kernelspec": {
   "display_name": "Python 3",
   "language": "python",
   "name": "python3"
  },
  "language_info": {
   "codemirror_mode": {
    "name": "ipython",
    "version": 3
   },
   "file_extension": ".py",
   "mimetype": "text/x-python",
   "name": "python",
   "nbconvert_exporter": "python",
   "pygments_lexer": "ipython3",
   "version": "3.7.4"
  }
 },
 "nbformat": 4,
 "nbformat_minor": 2
}
