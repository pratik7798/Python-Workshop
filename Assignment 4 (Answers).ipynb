{
 "cells": [
  {
   "cell_type": "markdown",
   "metadata": {},
   "source": [
    "#### 1. Find Factorial\n",
    "\n",
    "* Using numpy library and its functions find the factorial of all numbers from 1 till 'n'\n",
    "* 'n' is the input from the user\n",
    "* For eg.: Input = 5\n",
    "* Output should be [1!, 2!, 3!, 4!, 5!] i.e. [1,2,6,24,120]"
   ]
  },
  {
   "cell_type": "code",
   "execution_count": 13,
   "metadata": {},
   "outputs": [
    {
     "name": "stdout",
     "output_type": "stream",
     "text": [
      "Enter no:8\n",
      "1\n",
      "2\n",
      "6\n",
      "24\n",
      "120\n",
      "720\n",
      "5040\n",
      "40320\n"
     ]
    }
   ],
   "source": [
    "import numpy as np\n",
    "import math\n",
    "n=int(input(\"Enter no:\"))\n",
    "for x in range (1,n+1):\n",
    "    y=math.factorial(x)\n",
    "    print(y)\n",
    "    "
   ]
  },
  {
   "cell_type": "markdown",
   "metadata": {},
   "source": [
    "#### 2. Summarizing our data\n",
    "\n",
    "* Write a function that returns a summary of our data.\n",
    "* The function should return\n",
    "    * Minimum value\n",
    "    * Maximum Value\n",
    "    * Mean\n",
    "    * 1st Quartile i.e. 25th percentile\n",
    "    * 2nd Quartile i.e. Median\n",
    "    * 3rd Quartile i.e. 75th percentile\n",
    "    * Variance\n",
    "    * Standard Deviation\n",
    "* Take the data as an input from the csv file using pandas library\n",
    "* **Note:** .csv file is attached with this notebook."
   ]
  },
  {
   "cell_type": "code",
   "execution_count": 15,
   "metadata": {},
   "outputs": [
    {
     "name": "stdout",
     "output_type": "stream",
     "text": [
      "Min :  Values    3.32\n",
      "dtype: float64\n",
      "Max :  Values    989.0\n",
      "dtype: float64\n",
      "Mean :  Values    592.317333\n",
      "dtype: float64\n",
      "Quartile 25 pecentile :  416.0\n",
      "Quartile :  629.5\n",
      "Quartile 75 percentile :  795.25\n",
      "Varaince :  Values    75977.038713\n",
      "dtype: float64\n",
      "Standard Deviation :  Values    275.639327\n",
      "dtype: float64\n"
     ]
    }
   ],
   "source": [
    "import pandas as pd\n",
    "import numpy as np\n",
    "\n",
    "a = pd.read_csv(\"./data.csv\")\n",
    "print(\"Min : \", np.min(a))\n",
    "print(\"Max : \", np.max(a))\n",
    "print(\"Mean : \", np.mean(a))\n",
    "print(\"Quartile 25 pecentile : \",np.quantile(a,0.25))\n",
    "print(\"Quartile : \", np.median(a))\n",
    "print(\"Quartile 75 percentile : \", np.quantile(a,0.75))\n",
    "print(\"Varaince : \", np.var(a))\n",
    "print(\"Standard Deviation : \", np.std(a))\n"
   ]
  },
  {
   "cell_type": "markdown",
   "metadata": {},
   "source": [
    "#### 3. Student Report\n",
    "\n",
    "* Consider the given matrix\n",
    "    * [45,60,55,70,70,38]<br>[39,48,88,42,37,38]<br>[32,77,60,39,71,38]\n",
    "    * Here each row stands for marks obtained by a student and each column represents each subject i.e. 3 students and 6 subjects\n",
    "* Solve following questions for the given marks matrix\n",
    "    * Per subject how many students failed?\n",
    "    * How many subjects did each student fail in?\n",
    "    * What is the highest score in each subject?\n",
    "    * What is the lowest score in each subject?"
   ]
  },
  {
   "cell_type": "code",
   "execution_count": 9,
   "metadata": {},
   "outputs": [
    {
     "name": "stdout",
     "output_type": "stream",
     "text": [
      "[[45 60 55 70 70 38]\n",
      " [39 48 88 42 37 38]\n",
      " [32 77 60 39 71 38]]\n",
      "highest score: 88\n",
      "lowest score: 32\n",
      "failed subjects of each student: [1 3 3]\n",
      "highest marks in each subject : [45 77 88 70 71 38]\n",
      "lowest marks in each subject : [32 48 55 39 37 38]\n"
     ]
    }
   ],
   "source": [
    "import numpy as np\n",
    "A=np.array([[45,60,55,70,70,38],[39,48,88,42,37,38],[32,77,60,39,71,38]])\n",
    "print(A)\n",
    "print(\"highest score:\",A.max())\n",
    "print(\"lowest score:\",A.min())\n",
    "print('failed subjects of each student:',np.sum(A<40,axis=1))\n",
    "print('highest marks in each subject :',np.max(A,axis=0))\n",
    "print('lowest marks in each subject :',np.min(A,axis=0))"
   ]
  },
  {
   "cell_type": "code",
   "execution_count": null,
   "metadata": {},
   "outputs": [],
   "source": []
  }
 ],
 "metadata": {
  "kernelspec": {
   "display_name": "Python 3",
   "language": "python",
   "name": "python3"
  },
  "language_info": {
   "codemirror_mode": {
    "name": "ipython",
    "version": 3
   },
   "file_extension": ".py",
   "mimetype": "text/x-python",
   "name": "python",
   "nbconvert_exporter": "python",
   "pygments_lexer": "ipython3",
   "version": "3.7.4"
  }
 },
 "nbformat": 4,
 "nbformat_minor": 2
}
