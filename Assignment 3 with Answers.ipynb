{
 "cells": [
  {
   "cell_type": "markdown",
   "metadata": {},
   "source": [
    "#### 1. EMail Generator\n",
    "* Write a function to take First Name, Last Name and Date of Birth as input from the user and generate an EMail ID for them.\n",
    "* The function should return the email id as <br>First two letters of First Name,<br>followed by First letter of Last Name,<br>followed by DOB without '/' followed by '@xyz.com'\n",
    "* For Eg: **First Name:** Alice , **Last Name:** Garner , **DOB:** 07/11/1995\n",
    "* Eg Output: alg07111995@xyz.com"
   ]
  },
  {
   "cell_type": "code",
   "execution_count": 15,
   "metadata": {},
   "outputs": [
    {
     "name": "stdout",
     "output_type": "stream",
     "text": [
      "Enter first name:  pratik\n",
      "Enter last name:  dhumal\n",
      "Enter date of birth in dd/mm/yyyy format:07/07/1998\n",
      "pr d 07071998 @xyz.com\n"
     ]
    }
   ],
   "source": [
    "fname=input('Enter first name:  ')\n",
    "lname=input('Enter last name:  ')\n",
    "dob=input('Enter date of birth in dd/mm/yyyy format:')\n",
    "L=list(fname[:2])\n",
    "F=list(lname[:1])\n",
    "D=list(dob)\n",
    "D.remove('/')\n",
    "D.remove('/')\n",
    "def listtostring(l):\n",
    "    string=''\n",
    "    return(string.join(l))\n",
    "d=listtostring(D)\n",
    "#print(D)\n",
    "#res = [int(sub.split('/')[1]) for sub in D]\n",
    "#print('no are'+str(res))\n",
    "print(listtostring(L),listtostring(F),d,'@xyz.com')\n"
   ]
  },
  {
   "cell_type": "markdown",
   "metadata": {},
   "source": [
    "#### 2. Brightness Adjustments\n",
    "\n",
    "* Intuition: Let us say you have a grayscale image matrix of dimension 3x3<br>[150, 23, 21]<br>[168, 145, 23]<br>[170, 163, 150]<br>we need to reduce the brightness of this image by a factor of 10 i.e. each element of the image matrix should be subtracted by 10. Thus giving us the output image matrix as <br>[140, 13, 11]<br>[158, 135, 13]<br>[160, 153, 140]\n",
    "* Create a 3x3 matrix having random values between the range of 0 to 255.\n",
    "* Create a 3x3 matrix having all elements as 10.\n",
    "* Reduce (Subtraction) the brightness matrix from the image matrix."
   ]
  },
  {
   "cell_type": "code",
   "execution_count": 10,
   "metadata": {},
   "outputs": [
    {
     "name": "stdout",
     "output_type": "stream",
     "text": [
      "Gscale matrix:\n",
      "  [[166  81 170]\n",
      " [234  95  52]\n",
      " [ 21 130 156]] \n",
      "Redmatrix: \n",
      " [[10 10 10]\n",
      " [10 10 10]\n",
      " [10 10 10]]\n",
      "\n",
      "After Reduction matrrix is:\n",
      " [[156  71 160]\n",
      " [224  85  42]\n",
      " [ 11 120 146]]\n"
     ]
    }
   ],
   "source": [
    "import numpy as np\n",
    "A=np.random.randint(0,255,(3,3))\n",
    "B=np.full((3, 3),10)\n",
    "#A = np.array([[150,23,21],[168,145,23],[170,163,150]])\n",
    "print('Gscale matrix:\\n ',A,'\\nRedmatrix: \\n',B)\n",
    "C=np.subtract(A,B)\n",
    "print(\"\\nAfter Reduction matrrix is:\\n\",C)"
   ]
  },
  {
   "cell_type": "markdown",
   "metadata": {},
   "source": [
    "#### 3. Central Tendency Test\n",
    "\n",
    "* Intuition: Our goal here is to check the skewness of our distribution.\n",
    "* Skewness\n",
    "    * Positively Skewed : Mean > Median\n",
    "    * Negetively Skewed : Mean < Median\n",
    "    * Normal Curve : Mean = Median\n",
    "* Write a function that takes an array of 9 numbers as input and returns the skewness of its distribution.\n",
    "* Try your function for these inputs\n",
    "    * Input: [1,2,3,4,5,6,7,8,9] , Expected Output: \"Normal Curve\"\n",
    "    * Input: [1,2,3,4,5,6,9,9,10] , Expected Output: \"Positively Skewed\"\n",
    "    * Input: [1,1,1,4,5,6,7,8,9] , Expected Output: \"Negatively Skewed\"\n",
    "* **Note:** For this test consider the distribution to be sorted in an ascending order. Write code in such a way that even if unsorted array is passed as an input it handles it correctly."
   ]
  },
  {
   "cell_type": "code",
   "execution_count": 16,
   "metadata": {},
   "outputs": [
    {
     "name": "stdout",
     "output_type": "stream",
     "text": [
      "Enter 9 numbers in array\n",
      "number :2\n",
      "number :4\n",
      "number :5\n",
      "number :1\n",
      "number :7\n",
      "number :9\n",
      "number :8\n",
      "number :3\n",
      "number :6\n",
      "ARRAY:  [1, 2, 3, 4, 5, 6, 7, 8, 9]\n",
      "Sum of all elements in given list:  45\n",
      "mean is  5.0\n",
      "median is  5\n",
      "Distribution is noraml curve\n"
     ]
    }
   ],
   "source": [
    "total=0\n",
    "A = list()\n",
    "no = 9\n",
    "print ('Enter 9 numbers in array')\n",
    "for i in range(int(no)):\n",
    "    n = input(\"number :\")\n",
    "    A.append(int(n))\n",
    "    A.sort()\n",
    "print ('ARRAY: ',A)\n",
    "for ele in range(0, len(A)): \n",
    "     total= total + A[ele] \n",
    "print(\"Sum of all elements in given list: \", total) \n",
    "mean=total/no\n",
    "print('mean is ',mean)\n",
    "median=A[4]\n",
    "print('median is ',median)\n",
    "if (mean>median):\n",
    "    print('Distribution is positively skewed')\n",
    "elif (mean<median):\n",
    "    print('Distribution is negatively skewed')\n",
    "else:\n",
    "    print('Distribution is noraml curve')"
   ]
  },
  {
   "cell_type": "markdown",
   "metadata": {},
   "source": [
    "#### 4. Calculating Distances\n",
    "\n",
    "* Below are two equations for calculating distances between 2 points\n",
    "    * Euclidean Distance : $\\sqrt{(x2 - x1)^2 + (y2-y1)^2}$\n",
    "    * Manhattan Distance : $ |x2-x1| + |y2-y1| $\n",
    "* Write a function that takes the x and y coordiantes for two points as inputs and returns the Euclidean and Manhattan distance between the two."
   ]
  },
  {
   "cell_type": "code",
   "execution_count": 26,
   "metadata": {},
   "outputs": [
    {
     "name": "stdout",
     "output_type": "stream",
     "text": [
      "Enter point x1=-5\n",
      "Enter point x2=4\n",
      "Enter point y1=6\n",
      "Enter point y2=-2\n",
      "x1= -5.0 \n",
      "x2= 4.0 \n",
      "y1= 6.0 \n",
      "y2= -2.0\n",
      "Euclidean Distance=  12.041594578792296\n",
      "Manhattan Distance=  17.0\n"
     ]
    }
   ],
   "source": [
    "import math\n",
    "x1=float(input('Enter point x1='))\n",
    "x2=float(input('Enter point x2='))\n",
    "y1=float(input('Enter point y1='))\n",
    "y2=float(input('Enter point y2='))\n",
    "print(\"x1=\",x1,\"\\nx2=\",x2,\"\\ny1=\",y1,\"\\ny2=\",y2)\n",
    "E=math.sqrt(((x2-x1)*(x2-x1))+((y2-y1)*(y2-y1)))\n",
    "print(\"Euclidean Distance= \",E)\n",
    "M=abs(x2-x1)+abs(y2-y1)\n",
    "print(\"Manhattan Distance= \",M)"
   ]
  },
  {
   "cell_type": "markdown",
   "metadata": {},
   "source": [
    "#### 5. Softmax Function\n",
    "\n",
    "* The Softmax Function : $ \\frac{e^x}{\\sum{e^x}} $\n",
    "* Create a function that takes a array of numbers as input and returns the probabilities of each element of that array.\n",
    "* Eg: \n",
    "    * Input : [1,2,3]\n",
    "    * Denominator : e^1 + e^2 + e^3 = 2.71 + 7.38 + 20.08 = 30.16\n",
    "    * Softmax for each element:\n",
    "        * e^1/30.16 = 0.089\n",
    "        * e^2/30.16 = 0.244\n",
    "        * e^3/30.16 = 0.665"
   ]
  },
  {
   "cell_type": "code",
   "execution_count": 23,
   "metadata": {},
   "outputs": [
    {
     "name": "stdout",
     "output_type": "stream",
     "text": [
      "Enter size:3\n",
      "number :1\n",
      "number :2\n",
      "number :3\n",
      "ARRAY:  [2.718281828459045, 7.38905609893065, 20.085536923187668]\n",
      "[30.19287485057736]\n",
      "[0.09003057 0.24472847 0.66524096]\n"
     ]
    }
   ],
   "source": [
    "import numpy as np\n",
    "import math\n",
    "no=int(input(\"Enter size:\"))\n",
    "A = []\n",
    "for i in range(int(no)):\n",
    "    n = int(input(\"number :\"))\n",
    "    a=math.exp(n)\n",
    "    A.append(float(a))\n",
    "print ('ARRAY: ',A)\n",
    "C=[sum(A)]\n",
    "print(C)\n",
    "S=np.divide(A,C)\n",
    "print(S)    "
   ]
  }
 ],
 "metadata": {
  "kernelspec": {
   "display_name": "Python 3",
   "language": "python",
   "name": "python3"
  },
  "language_info": {
   "codemirror_mode": {
    "name": "ipython",
    "version": 3
   },
   "file_extension": ".py",
   "mimetype": "text/x-python",
   "name": "python",
   "nbconvert_exporter": "python",
   "pygments_lexer": "ipython3",
   "version": "3.7.4"
  }
 },
 "nbformat": 4,
 "nbformat_minor": 2
}
